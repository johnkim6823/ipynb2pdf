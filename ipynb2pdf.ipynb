{
 "cells": [
  {
   "cell_type": "code",
   "execution_count": null,
   "metadata": {
    "vscode": {
     "languageId": "plaintext"
    }
   },
   "outputs": [],
   "source": [
    "# 필요한 패키지 설치\n",
    "!apt-get install -y wkhtmltopdf  # wkhtmltopdf 설치\n",
    "!pip install nbformat nbconvert  # nbformat과 nbconvert 설치\n",
    "\n",
    "# 이후에 제공된 코드 실행\n",
    "from google.colab import files\n",
    "import nbformat\n",
    "from nbconvert import HTMLExporter\n",
    "from subprocess import run\n",
    "import os\n",
    "\n",
    "# ipynb 파일 업로드\n",
    "uploaded = files.upload()\n",
    "file_name = list(uploaded.keys())[0]\n",
    "\n",
    "# ipynb 파일 열기\n",
    "with open(file_name, \"r\", encoding=\"utf-8\") as f:\n",
    "    notebook_content = nbformat.read(f, as_version=4)\n",
    "\n",
    "# HTML 변환기 설정\n",
    "html_exporter = HTMLExporter()\n",
    "html_exporter.exclude_input = False\n",
    "\n",
    "# 추가할 CSS 스타일 정의 (컴팩트한 레이아웃과 균등 여백 설정)\n",
    "custom_css = \"\"\"\n",
    "<style>\n",
    "    /* 페이지 여백 조정 */\n",
    "    body {\n",
    "        margin: 0;\n",
    "        padding: 10px;\n",
    "    }\n",
    "    /* 이미지와 출력 셀 크기를 줄임 */\n",
    "    img, .output {\n",
    "        max-width: 90%;\n",
    "        height: auto;\n",
    "    }\n",
    "    /* 코드 셀 및 텍스트 셀 간격 축소 */\n",
    "    .input, .output {\n",
    "        margin: 5px 0;\n",
    "        padding: 5px;\n",
    "        font-size: 12px;\n",
    "    }\n",
    "</style>\n",
    "\"\"\"\n",
    "\n",
    "# HTML 변환\n",
    "html_data, _ = html_exporter.from_notebook_node(notebook_content)\n",
    "html_data = custom_css + html_data  # CSS 추가\n",
    "\n",
    "# HTML 파일 저장\n",
    "html_file_name = file_name.replace(\".ipynb\", \".html\")\n",
    "with open(html_file_name, \"w\", encoding=\"utf-8\") as html_file:\n",
    "    html_file.write(html_data)\n",
    "\n",
    "# HTML을 PDF로 변환 (상하좌우 여백을 25mm로 설정)\n",
    "pdf_file_name = file_name.replace(\".ipynb\", \".pdf\")\n",
    "run([\n",
    "    \"wkhtmltopdf\",\n",
    "    \"--margin-top\", \"25mm\",\n",
    "    \"--margin-bottom\", \"25mm\",\n",
    "    \"--margin-left\", \"25mm\",\n",
    "    \"--margin-right\", \"25mm\",\n",
    "    \"--page-size\", \"A4\",\n",
    "    html_file_name,\n",
    "    pdf_file_name\n",
    "])\n",
    "\n",
    "# PDF 파일 다운로드\n",
    "files.download(pdf_file_name)\n",
    "print(f\"PDF 파일이 생성되었습니다: {pdf_file_name}\")"
   ]
  },
  {
   "cell_type": "markdown",
   "metadata": {},
   "source": []
  }
 ],
 "metadata": {
  "language_info": {
   "name": "python"
  }
 },
 "nbformat": 4,
 "nbformat_minor": 2
}
